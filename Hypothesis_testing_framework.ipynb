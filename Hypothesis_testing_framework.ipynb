{
  "nbformat": 4,
  "nbformat_minor": 0,
  "metadata": {
    "colab": {
      "provenance": []
    },
    "kernelspec": {
      "name": "python3",
      "display_name": "Python 3"
    },
    "language_info": {
      "name": "python"
    }
  },
  "cells": [
    {
      "cell_type": "markdown",
      "source": [
        " The null $H_0$ in strategy performance"
      ],
      "metadata": {
        "id": "PFs0-_M9uEHs"
      }
    },
    {
      "cell_type": "code",
      "execution_count": 1,
      "metadata": {
        "colab": {
          "base_uri": "https://localhost:8080/"
        },
        "id": "i2ikE8Rso9a1",
        "outputId": "a6ac2231-9c14-4971-df7a-9766344b3523"
      },
      "outputs": [
        {
          "output_type": "stream",
          "name": "stdout",
          "text": [
            "T-statistic: 1.466\n",
            "P-value: 0.1931\n",
            "Fail to reject H0: No statistical evidence of alpha.\n"
          ]
        }
      ],
      "source": [
        "import numpy as np\n",
        "from scipy import stats\n",
        "\n",
        "# Example: daily excess returns of a strategy (after costs, in %)\n",
        "excess_returns = np.array([0.12, -0.08, 0.05, 0.03, -0.02, 0.07, 0.10])\n",
        "\n",
        "# Null hypothesis H0: true mean excess return μ = 0\n",
        "# One-sample t-test\n",
        "t_stat, p_value = stats.ttest_1samp(excess_returns, popmean=0.0)\n",
        "\n",
        "print(f\"T-statistic: {t_stat:.3f}\")\n",
        "print(f\"P-value: {p_value:.4f}\")\n",
        "\n",
        "# Decision rule at 5% significance\n",
        "alpha = 0.05\n",
        "if p_value < alpha:\n",
        "    print(\"Reject H0: Evidence of positive or negative alpha.\")\n",
        "else:\n",
        "    print(\"Fail to reject H0: No statistical evidence of alpha.\")"
      ]
    },
    {
      "cell_type": "markdown",
      "source": [
        "The  alternative hypothesis $H_a$ or $H_1$"
      ],
      "metadata": {
        "id": "3LNpfD91vC4a"
      }
    },
    {
      "cell_type": "code",
      "source": [
        "import numpy as np\n",
        "from scipy import stats\n",
        "\n",
        "# Example: daily excess returns of a strategy (after costs, in %)\n",
        "excess_returns = np.array([0.12, -0.08, 0.05, 0.03, -0.02, 0.07, 0.10])\n",
        "\n",
        "# Null hypothesis H0: μ = 0\n",
        "# Alternative hypothesis Ha: μ > 0 (positive alpha exists)\n",
        "t_stat, p_two_sided = stats.ttest_1samp(excess_returns, popmean=0.0)\n",
        "\n",
        "# Convert two-sided p-value to one-sided\n",
        "if t_stat > 0:\n",
        "    p_one_sided = p_two_sided / 2\n",
        "else:\n",
        "    p_one_sided = 1.0  # if t_stat <= 0, evidence does not support Ha\n",
        "\n",
        "print(f\"T-statistic: {t_stat:.3f}\")\n",
        "print(f\"One-sided p-value: {p_one_sided:.4f}\")\n",
        "\n",
        "# Decision rule at 5% significance\n",
        "alpha = 0.05\n",
        "if p_one_sided < alpha:\n",
        "    print(\"Reject H0: Evidence supports Ha (positive alpha).\")\n",
        "else:\n",
        "    print(\"Fail to reject H0: No evidence for positive alpha.\")"
      ],
      "metadata": {
        "colab": {
          "base_uri": "https://localhost:8080/"
        },
        "id": "emXIp30fvDAs",
        "outputId": "a1a17806-9a70-4c37-a088-5e3cfcb708df"
      },
      "execution_count": 2,
      "outputs": [
        {
          "output_type": "stream",
          "name": "stdout",
          "text": [
            "T-statistic: 1.466\n",
            "One-sided p-value: 0.0965\n",
            "Fail to reject H0: No evidence for positive alpha.\n"
          ]
        }
      ]
    },
    {
      "cell_type": "markdown",
      "source": [
        "Robust test statistic (mean return with HAC standard error)"
      ],
      "metadata": {
        "id": "pN3M6oZnvtDO"
      }
    },
    {
      "cell_type": "code",
      "source": [
        "import numpy as np\n",
        "import statsmodels.api as sm\n",
        "\n",
        "# Example: daily excess returns of a strategy (after costs, in %)\n",
        "excess_returns = np.array([0.12, -0.08, 0.05, 0.03, -0.02, 0.07, 0.10])\n",
        "\n",
        "# Null hypothesis: H0: μ = 0\n",
        "# Sample estimate (mean return)\n",
        "mean_ret = np.mean(excess_returns)\n",
        "\n",
        "# Set up regression: returns = μ + ε\n",
        "X = np.ones((len(excess_returns), 1))  # intercept only\n",
        "ols_model = sm.OLS(excess_returns, X).fit(cov_type='HAC', cov_kwds={'maxlags':5})\n",
        "\n",
        "# Extract test statistic and p-value for intercept (mean return)\n",
        "t_stat = ols_model.tvalues[0]\n",
        "p_value = ols_model.pvalues[0]\n",
        "\n",
        "print(f\"Sample mean: {mean_ret:.4f}\")\n",
        "print(f\"T-statistic (Newey-West): {t_stat:.3f}\")\n",
        "print(f\"P-value: {p_value:.4f}\")"
      ],
      "metadata": {
        "colab": {
          "base_uri": "https://localhost:8080/"
        },
        "id": "W65EkCj3vtJf",
        "outputId": "70213906-fae4-41ce-fcd4-3feeb631f175"
      },
      "execution_count": 3,
      "outputs": [
        {
          "output_type": "stream",
          "name": "stdout",
          "text": [
            "Sample mean: 0.0386\n",
            "T-statistic (Newey-West): 3.136\n",
            "P-value: 0.0017\n"
          ]
        }
      ]
    },
    {
      "cell_type": "markdown",
      "source": [
        "t-statistic on regression alpha"
      ],
      "metadata": {
        "id": "g4CULTLKwR5x"
      }
    },
    {
      "cell_type": "code",
      "source": [
        "import numpy as np\n",
        "import statsmodels.api as sm\n",
        "\n",
        "# Example: strategy and market daily excess returns (after risk-free rate)\n",
        "strategy_excess = np.array([0.12, -0.08, 0.05, 0.03, -0.02, 0.07, 0.10])\n",
        "market_excess   = np.array([0.10, -0.05, 0.02, 0.04, -0.01, 0.06, 0.09])\n",
        "\n",
        "# Regression: strategy_excess ~ alpha + beta * market_excess\n",
        "X = sm.add_constant(market_excess)  # adds intercept term\n",
        "ols_model = sm.OLS(strategy_excess, X).fit(cov_type='HAC', cov_kwds={'maxlags':5})\n",
        "\n",
        "alpha_hat = ols_model.params[0]\n",
        "t_alpha   = ols_model.tvalues[0]\n",
        "p_alpha   = ols_model.pvalues[0]\n",
        "\n",
        "print(f\"Estimated alpha: {alpha_hat:.4f}\")\n",
        "print(f\"T-statistic (alpha): {t_alpha:.3f}\")\n",
        "print(f\"P-value (alpha): {p_alpha:.4f}\")"
      ],
      "metadata": {
        "colab": {
          "base_uri": "https://localhost:8080/"
        },
        "id": "Toj9xIqQwSBC",
        "outputId": "cfae6de0-8e6b-4e07-d6d3-95311d218eab"
      },
      "execution_count": 4,
      "outputs": [
        {
          "output_type": "stream",
          "name": "stdout",
          "text": [
            "Estimated alpha: -0.0066\n",
            "T-statistic (alpha): -2.867\n",
            "P-value (alpha): 0.0041\n"
          ]
        }
      ]
    },
    {
      "cell_type": "markdown",
      "source": [
        "F-statistic on joint hypotheses"
      ],
      "metadata": {
        "id": "7A8JTsifwa4F"
      }
    },
    {
      "cell_type": "code",
      "source": [
        "import numpy as np\n",
        "import statsmodels.api as sm\n",
        "\n",
        "# Example: strategy returns and five candidate predictive factors\n",
        "n_obs = 50\n",
        "np.random.seed(42)\n",
        "strategy_returns = np.random.normal(0, 0.01, n_obs)\n",
        "factors = np.random.normal(0, 0.01, (n_obs, 5))\n",
        "\n",
        "# Regression: strategy_returns ~ intercept + factors\n",
        "X = sm.add_constant(factors)\n",
        "ols_model = sm.OLS(strategy_returns, X).fit()\n",
        "\n",
        "# Joint null hypothesis: all factor coefficients = 0\n",
        "hypotheses = \"x1 = x2 = x3 = x4 = x5 = 0\"\n",
        "f_test = ols_model.f_test(hypotheses)\n",
        "\n",
        "print(f\"F-statistic: {float(f_test.fvalue):.3f}\")\n",
        "print(f\"P-value: {float(f_test.pvalue):.4f}\")"
      ],
      "metadata": {
        "colab": {
          "base_uri": "https://localhost:8080/"
        },
        "id": "k2YlADMzwbC1",
        "outputId": "5a1c3878-280c-4029-f2ed-a72e98f92df8"
      },
      "execution_count": 5,
      "outputs": [
        {
          "output_type": "stream",
          "name": "stdout",
          "text": [
            "F-statistic: 0.738\n",
            "P-value: 0.5990\n"
          ]
        }
      ]
    },
    {
      "cell_type": "markdown",
      "source": [
        "Decision via hypotheses test"
      ],
      "metadata": {
        "id": "Y6N6u5ng9o5B"
      }
    },
    {
      "cell_type": "code",
      "source": [
        "import numpy as np\n",
        "from scipy.stats import norm\n",
        "\n",
        "# Example: daily returns from a strategy\n",
        "np.random.seed(42)\n",
        "returns = np.random.normal(0.0005, 0.01, size=1250)  # ~5 years of daily data\n",
        "\n",
        "# Compute Sharpe ratio\n",
        "mean_ret = np.mean(returns)\n",
        "std_ret = np.std(returns, ddof=1)\n",
        "sharpe = mean_ret / std_ret * np.sqrt(252)\n",
        "\n",
        "# Standard error of Sharpe (Lo 2002 approx, IID assumption here)\n",
        "n = len(returns)\n",
        "se_sharpe = 1 / np.sqrt(n)\n",
        "\n",
        "# One-sided z-test: H0: Sharpe <= 0 vs Ha: Sharpe > 0\n",
        "z_stat = sharpe / se_sharpe\n",
        "p_value = 1 - norm.cdf(z_stat)\n",
        "\n",
        "print(f\"Sharpe ratio: {sharpe:.2f}\")\n",
        "print(f\"Z-statistic: {z_stat:.2f}\")\n",
        "print(f\"One-sided p-value: {p_value:.4f}\")\n",
        "\n",
        "alpha = 0.05\n",
        "if p_value < alpha:\n",
        "    print(\"Reject H0: Evidence Sharpe > 0.\")\n",
        "else:\n",
        "    print(\"Fail to reject H0.\")"
      ],
      "metadata": {
        "colab": {
          "base_uri": "https://localhost:8080/"
        },
        "id": "AMCUN0RN9qwA",
        "outputId": "b0b5be62-d026-4e3e-a5cf-a584744a9cbe"
      },
      "execution_count": 6,
      "outputs": [
        {
          "output_type": "stream",
          "name": "stdout",
          "text": [
            "Sharpe ratio: 1.41\n",
            "Z-statistic: 49.78\n",
            "One-sided p-value: 0.0000\n",
            "Reject H0: Evidence Sharpe > 0.\n"
          ]
        }
      ]
    },
    {
      "cell_type": "markdown",
      "source": [
        "Decision via confidence interval"
      ],
      "metadata": {
        "id": "yA0RmFka9y9I"
      }
    },
    {
      "cell_type": "code",
      "source": [
        "import numpy as np\n",
        "\n",
        "# Parameters\n",
        "n_boot = 5000\n",
        "block_size = 20  # days per block to preserve autocorrelation\n",
        "n = len(returns)\n",
        "\n",
        "def sharpe_ratio(x):\n",
        "    return np.mean(x) / np.std(x, ddof=1) * np.sqrt(252)\n",
        "\n",
        "boot_sharpes = []\n",
        "rng = np.random.default_rng(123)\n",
        "\n",
        "# Stationary block bootstrap\n",
        "for _ in range(n_boot):\n",
        "    start_indices = rng.integers(0, n - block_size, size=n // block_size + 1)\n",
        "    sampled = np.concatenate([returns[i:i+block_size] for i in start_indices])\n",
        "    sampled = sampled[:n]  # trim to length\n",
        "    boot_sharpes.append(sharpe_ratio(sampled))\n",
        "\n",
        "ci_lower, ci_upper = np.percentile(boot_sharpes, [5, 95])\n",
        "\n",
        "print(f\"Bootstrap Sharpe CI (90%): [{ci_lower:.2f}, {ci_upper:.2f}]\")\n",
        "if ci_lower > 0:\n",
        "    print(\"Reject H0: Interval excludes 0.\")\n",
        "else:\n",
        "    print(\"Fail to reject H0.\")"
      ],
      "metadata": {
        "colab": {
          "base_uri": "https://localhost:8080/"
        },
        "id": "CL5pd13v9z5x",
        "outputId": "21404da6-e1d5-4372-8647-56503f6c2926"
      },
      "execution_count": 7,
      "outputs": [
        {
          "output_type": "stream",
          "name": "stdout",
          "text": [
            "Bootstrap Sharpe CI (90%): [0.68, 2.19]\n",
            "Reject H0: Interval excludes 0.\n"
          ]
        }
      ]
    },
    {
      "cell_type": "markdown",
      "source": [
        "Type I error"
      ],
      "metadata": {
        "id": "NOCDUGWwBeDX"
      }
    },
    {
      "cell_type": "code",
      "source": [
        "import numpy as np\n",
        "from scipy import stats\n",
        "\n",
        "np.random.seed(42)\n",
        "\n",
        "# Parameters\n",
        "n_trials = 10000       # number of simulated \"backtests\"\n",
        "n_obs = 252            # daily returns in one year\n",
        "alpha = 0.05           # significance level\n",
        "\n",
        "false_positives = 0\n",
        "\n",
        "for _ in range(n_trials):\n",
        "    # Simulate strategy returns with true mean = 0 (no edge)\n",
        "    returns = np.random.normal(0, 0.01, size=n_obs)\n",
        "\n",
        "    # One-sample t-test: H0: mean = 0\n",
        "    t_stat, p_value = stats.ttest_1samp(returns, popmean=0.0)\n",
        "\n",
        "    if p_value < alpha:\n",
        "        false_positives += 1\n",
        "\n",
        "rate = false_positives / n_trials\n",
        "print(f\"Empirical Type I error rate: {rate:.3f} (expected ~{alpha})\")"
      ],
      "metadata": {
        "colab": {
          "base_uri": "https://localhost:8080/"
        },
        "id": "UgaDXwWSBePW",
        "outputId": "6ca38f14-7fdd-4ead-c8f7-21890683caef"
      },
      "execution_count": 8,
      "outputs": [
        {
          "output_type": "stream",
          "name": "stdout",
          "text": [
            "Empirical Type I error rate: 0.049 (expected ~0.05)\n"
          ]
        }
      ]
    },
    {
      "cell_type": "markdown",
      "source": [
        "Type II error"
      ],
      "metadata": {
        "id": "Bx7CFKs_Bq-P"
      }
    },
    {
      "cell_type": "code",
      "source": [
        "import numpy as np\n",
        "from scipy import stats\n",
        "\n",
        "np.random.seed(123)\n",
        "\n",
        "# Parameters\n",
        "n_trials = 10000        # number of simulated \"backtests\"\n",
        "n_obs = 252             # daily returns in one year\n",
        "true_mean = 0.0005      # 0.05% daily mean (~12.5% annualized return)\n",
        "vol = 0.01              # daily volatility = 1%\n",
        "alpha = 0.05            # significance level\n",
        "\n",
        "false_negatives = 0\n",
        "\n",
        "for _ in range(n_trials):\n",
        "    # Simulate strategy returns with small positive edge\n",
        "    returns = np.random.normal(true_mean, vol, size=n_obs)\n",
        "\n",
        "    # One-sample t-test: H0: mean = 0\n",
        "    t_stat, p_value = stats.ttest_1samp(returns, popmean=0.0)\n",
        "\n",
        "    # If p-value > alpha, we fail to reject H0 → Type II error\n",
        "    if p_value > alpha:\n",
        "        false_negatives += 1\n",
        "\n",
        "rate = false_negatives / n_trials\n",
        "print(f\"Empirical Type II error rate: {rate:.3f}\")\n",
        "print(f\"Power of the test (1 - beta): {1-rate:.3f}\")"
      ],
      "metadata": {
        "colab": {
          "base_uri": "https://localhost:8080/"
        },
        "id": "uoU__jsOB2-O",
        "outputId": "c739c7c9-ebcf-4f47-ac21-b02d3dd47571"
      },
      "execution_count": 9,
      "outputs": [
        {
          "output_type": "stream",
          "name": "stdout",
          "text": [
            "Empirical Type II error rate: 0.869\n",
            "Power of the test (1 - beta): 0.131\n"
          ]
        }
      ]
    },
    {
      "cell_type": "markdown",
      "source": [
        "Liklihood ratio"
      ],
      "metadata": {
        "id": "cJbWiM5bJmg0"
      }
    },
    {
      "cell_type": "code",
      "source": [
        "import numpy as np\n",
        "import statsmodels.api as sm\n",
        "from scipy.stats import chi2\n",
        "\n",
        "# --- Simulated data ---\n",
        "np.random.seed(42)\n",
        "n = 200\n",
        "x1 = np.random.normal(size=n)\n",
        "x2 = np.random.normal(size=n)\n",
        "eps = np.random.normal(scale=1.0, size=n)\n",
        "\n",
        "# True model: includes x1 and x2\n",
        "y = 1.0 + 2.0 * x1 + 0.5 * x2 + eps\n",
        "\n",
        "# --- Null model (restricted): y ~ 1 + x1 ---\n",
        "X_null = sm.add_constant(x1)\n",
        "model_null = sm.OLS(y, X_null).fit()\n",
        "\n",
        "# --- Alternative model (unrestricted): y ~ 1 + x1 + x2 ---\n",
        "X_alt = sm.add_constant(np.column_stack([x1, x2]))\n",
        "model_alt = sm.OLS(y, X_alt).fit()\n",
        "\n",
        "# --- Likelihood Ratio statistic ---\n",
        "ll_null = model_null.llf   # log-likelihood of null model\n",
        "ll_alt  = model_alt.llf    # log-likelihood of alternative model\n",
        "LR_stat = -2 * (ll_null - ll_alt)\n",
        "\n",
        "# Degrees of freedom = number of constraints = 1 (beta2 = 0)\n",
        "df = model_alt.df_model - model_null.df_model\n",
        "p_value = 1 - chi2.cdf(LR_stat, df)\n",
        "\n",
        "print(f\"LR statistic: {LR_stat:.3f}\")\n",
        "print(f\"Degrees of freedom: {df}\")\n",
        "print(f\"P-value: {p_value:.4f}\")"
      ],
      "metadata": {
        "colab": {
          "base_uri": "https://localhost:8080/"
        },
        "id": "KhCCFm7jJngE",
        "outputId": "84d5a319-c8d4-4e93-d589-71e95603b785"
      },
      "execution_count": 10,
      "outputs": [
        {
          "output_type": "stream",
          "name": "stdout",
          "text": [
            "LR statistic: 41.263\n",
            "Degrees of freedom: 1.0\n",
            "P-value: 0.0000\n"
          ]
        }
      ]
    },
    {
      "cell_type": "markdown",
      "source": [
        "Detecting factor redundancy"
      ],
      "metadata": {
        "id": "Qcl4lXkeLDtx"
      }
    },
    {
      "cell_type": "code",
      "source": [
        "import numpy as np\n",
        "import statsmodels.api as sm\n",
        "from scipy.stats import chi2\n",
        "\n",
        "np.random.seed(42)\n",
        "n, k_base, k_new = 300, 10, 3\n",
        "\n",
        "# Simulate baseline factors and returns\n",
        "X_base = np.random.normal(size=(n, k_base))\n",
        "X_new  = np.random.normal(size=(n, k_new))\n",
        "beta_base = np.random.uniform(-0.2, 0.2, size=k_base)\n",
        "beta_new  = np.array([0.0, 0.0, 0.0])  # true redundancy (no edge)\n",
        "y = 0.5 + X_base @ beta_base + X_new @ beta_new + np.random.normal(size=n)\n",
        "\n",
        "# Fit null (baseline only) and alt (baseline + new) models\n",
        "X0 = sm.add_constant(X_base)\n",
        "X1 = sm.add_constant(np.column_stack([X_base, X_new]))\n",
        "model_null = sm.OLS(y, X0).fit()\n",
        "model_alt  = sm.OLS(y, X1).fit()\n",
        "\n",
        "# Likelihood ratio test\n",
        "ll_null, ll_alt = model_null.llf, model_alt.llf\n",
        "LR_stat = -2 * (ll_null - ll_alt)\n",
        "df = k_new\n",
        "p_value = 1 - chi2.cdf(LR_stat, df)\n",
        "\n",
        "print(f\"LR statistic: {LR_stat:.3f}, df={df}, p-value={p_value:.4f}\")"
      ],
      "metadata": {
        "colab": {
          "base_uri": "https://localhost:8080/"
        },
        "id": "IzePc949LD1h",
        "outputId": "7d16e295-775c-4b1e-8808-629ca3eb19fd"
      },
      "execution_count": 11,
      "outputs": [
        {
          "output_type": "stream",
          "name": "stdout",
          "text": [
            "LR statistic: 2.811, df=3, p-value=0.4217\n"
          ]
        }
      ]
    },
    {
      "cell_type": "markdown",
      "source": [
        "Detecting structural breaks"
      ],
      "metadata": {
        "id": "gdK7cbeQLJEC"
      }
    },
    {
      "cell_type": "code",
      "source": [
        "np.random.seed(123)\n",
        "n = 200\n",
        "break_point = 100\n",
        "\n",
        "x = np.random.normal(size=n)\n",
        "# Different regimes before and after break\n",
        "y = np.empty(n)\n",
        "y[:break_point]  = 0.5 + 1.0*x[:break_point]  + np.random.normal(size=break_point)\n",
        "y[break_point:]  = 1.0 + 2.0*x[break_point:]  + np.random.normal(size=n-break_point)\n",
        "\n",
        "# Null: single regression for all data\n",
        "X = sm.add_constant(x)\n",
        "model_null = sm.OLS(y, X).fit()\n",
        "\n",
        "# Alt: separate regressions before/after break → equivalent to allowing interaction\n",
        "d = (np.arange(n) >= break_point).astype(int)  # break dummy\n",
        "X_alt = sm.add_constant(np.column_stack([x, d, x*d]))\n",
        "model_alt = sm.OLS(y, X_alt).fit()\n",
        "\n",
        "# Likelihood ratio test\n",
        "ll_null, ll_alt = model_null.llf, model_alt.llf\n",
        "LR_stat = -2 * (ll_null - ll_alt)\n",
        "df = model_alt.df_model - model_null.df_model\n",
        "p_value = 1 - chi2.cdf(LR_stat, df)\n",
        "\n",
        "print(f\"LR statistic: {LR_stat:.3f}, df={df}, p-value={p_value:.4f}\")"
      ],
      "metadata": {
        "colab": {
          "base_uri": "https://localhost:8080/"
        },
        "id": "M0fqWzubLJLq",
        "outputId": "38b2bf22-b494-4092-828f-7c9a5888891f"
      },
      "execution_count": 12,
      "outputs": [
        {
          "output_type": "stream",
          "name": "stdout",
          "text": [
            "LR statistic: 77.217, df=2.0, p-value=0.0000\n"
          ]
        }
      ]
    },
    {
      "cell_type": "markdown",
      "source": [
        "Assessing model complexity"
      ],
      "metadata": {
        "id": "vZQS3sH7LsOl"
      }
    },
    {
      "cell_type": "code",
      "source": [
        "np.random.seed(321)\n",
        "n = 250\n",
        "momentum = np.random.normal(size=n)\n",
        "# True relation has quadratic component\n",
        "y = 0.5 + 1.5*momentum - 0.7*momentum**2 + np.random.normal(scale=1.0, size=n)\n",
        "\n",
        "# Null: linear model y ~ momentum\n",
        "X_lin = sm.add_constant(momentum)\n",
        "model_null = sm.OLS(y, X_lin).fit()\n",
        "\n",
        "# Alt: quadratic model y ~ momentum + momentum^2\n",
        "X_quad = sm.add_constant(np.column_stack([momentum, momentum**2]))\n",
        "model_alt = sm.OLS(y, X_quad).fit()\n",
        "\n",
        "# Likelihood ratio test\n",
        "ll_null, ll_alt = model_null.llf, model_alt.llf\n",
        "LR_stat = -2 * (ll_null - ll_alt)\n",
        "df = model_alt.df_model - model_null.df_model\n",
        "p_value = 1 - chi2.cdf(LR_stat, df)\n",
        "\n",
        "print(f\"LR statistic: {LR_stat:.3f}, df={df}, p-value={p_value:.4f}\")"
      ],
      "metadata": {
        "colab": {
          "base_uri": "https://localhost:8080/"
        },
        "id": "AtzR-gFiLsX2",
        "outputId": "6585427d-6391-416c-a55c-894f4ef25cc2"
      },
      "execution_count": 13,
      "outputs": [
        {
          "output_type": "stream",
          "name": "stdout",
          "text": [
            "LR statistic: 139.205, df=1.0, p-value=0.0000\n"
          ]
        }
      ]
    }
  ]
}